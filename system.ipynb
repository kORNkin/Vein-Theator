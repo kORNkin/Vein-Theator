{
 "cells": [
  {
   "cell_type": "code",
   "execution_count": 8,
   "metadata": {},
   "outputs": [
    {
     "ename": "ImportError",
     "evalue": "cannot import name 'SparseDtype' from 'pandas.core.arrays.sparse' (e:\\วช\\Vein-Theator\\env\\lib\\site-packages\\pandas\\core\\arrays\\sparse\\__init__.py)",
     "output_type": "error",
     "traceback": [
      "\u001b[1;31m---------------------------------------------------------------------------\u001b[0m",
      "\u001b[1;31mImportError\u001b[0m                               Traceback (most recent call last)",
      "Cell \u001b[1;32mIn[8], line 8\u001b[0m\n\u001b[0;32m      6\u001b[0m \u001b[38;5;28;01mimport\u001b[39;00m\u001b[38;5;250m \u001b[39m\u001b[38;5;21;01mshutil\u001b[39;00m\n\u001b[0;32m      7\u001b[0m \u001b[38;5;28;01mimport\u001b[39;00m\u001b[38;5;250m \u001b[39m\u001b[38;5;21;01mwarnings\u001b[39;00m\n\u001b[1;32m----> 8\u001b[0m \u001b[38;5;28;01mimport\u001b[39;00m\u001b[38;5;250m \u001b[39m\u001b[38;5;21;01mpandas\u001b[39;00m\u001b[38;5;250m \u001b[39m\u001b[38;5;28;01mas\u001b[39;00m\u001b[38;5;250m \u001b[39m\u001b[38;5;21;01mpd\u001b[39;00m\n\u001b[0;32m      9\u001b[0m \u001b[38;5;28;01mimport\u001b[39;00m\u001b[38;5;250m \u001b[39m\u001b[38;5;21;01mtime\u001b[39;00m\n\u001b[0;32m     10\u001b[0m \u001b[38;5;28;01mimport\u001b[39;00m\u001b[38;5;250m \u001b[39m\u001b[38;5;21;01mrandom\u001b[39;00m\n",
      "File \u001b[1;32me:\\วช\\Vein-Theator\\env\\lib\\site-packages\\pandas\\__init__.py:113\u001b[0m\n\u001b[0;32m     46\u001b[0m \u001b[38;5;28;01mimport\u001b[39;00m\u001b[38;5;250m \u001b[39m\u001b[38;5;21;01mpandas\u001b[39;00m\u001b[38;5;21;01m.\u001b[39;00m\u001b[38;5;21;01mcore\u001b[39;00m\u001b[38;5;21;01m.\u001b[39;00m\u001b[38;5;21;01mconfig_init\u001b[39;00m  \u001b[38;5;66;03m# pyright: ignore # noqa:F401\u001b[39;00m\n\u001b[0;32m     48\u001b[0m \u001b[38;5;28;01mfrom\u001b[39;00m\u001b[38;5;250m \u001b[39m\u001b[38;5;21;01mpandas\u001b[39;00m\u001b[38;5;21;01m.\u001b[39;00m\u001b[38;5;21;01mcore\u001b[39;00m\u001b[38;5;21;01m.\u001b[39;00m\u001b[38;5;21;01mapi\u001b[39;00m\u001b[38;5;250m \u001b[39m\u001b[38;5;28;01mimport\u001b[39;00m (\n\u001b[0;32m     49\u001b[0m     \u001b[38;5;66;03m# dtype\u001b[39;00m\n\u001b[0;32m     50\u001b[0m     ArrowDtype,\n\u001b[1;32m   (...)\u001b[0m\n\u001b[0;32m    110\u001b[0m     DataFrame,\n\u001b[0;32m    111\u001b[0m )\n\u001b[1;32m--> 113\u001b[0m \u001b[38;5;28;01mfrom\u001b[39;00m\u001b[38;5;250m \u001b[39m\u001b[38;5;21;01mpandas\u001b[39;00m\u001b[38;5;21;01m.\u001b[39;00m\u001b[38;5;21;01mcore\u001b[39;00m\u001b[38;5;21;01m.\u001b[39;00m\u001b[38;5;21;01marrays\u001b[39;00m\u001b[38;5;21;01m.\u001b[39;00m\u001b[38;5;21;01msparse\u001b[39;00m\u001b[38;5;250m \u001b[39m\u001b[38;5;28;01mimport\u001b[39;00m SparseDtype\n\u001b[0;32m    115\u001b[0m \u001b[38;5;28;01mfrom\u001b[39;00m\u001b[38;5;250m \u001b[39m\u001b[38;5;21;01mpandas\u001b[39;00m\u001b[38;5;21;01m.\u001b[39;00m\u001b[38;5;21;01mtseries\u001b[39;00m\u001b[38;5;21;01m.\u001b[39;00m\u001b[38;5;21;01mapi\u001b[39;00m\u001b[38;5;250m \u001b[39m\u001b[38;5;28;01mimport\u001b[39;00m infer_freq\n\u001b[0;32m    116\u001b[0m \u001b[38;5;28;01mfrom\u001b[39;00m\u001b[38;5;250m \u001b[39m\u001b[38;5;21;01mpandas\u001b[39;00m\u001b[38;5;21;01m.\u001b[39;00m\u001b[38;5;21;01mtseries\u001b[39;00m\u001b[38;5;250m \u001b[39m\u001b[38;5;28;01mimport\u001b[39;00m offsets\n",
      "\u001b[1;31mImportError\u001b[0m: cannot import name 'SparseDtype' from 'pandas.core.arrays.sparse' (e:\\วช\\Vein-Theator\\env\\lib\\site-packages\\pandas\\core\\arrays\\sparse\\__init__.py)"
     ]
    }
   ],
   "source": [
    "import os\n",
    "import cv2\n",
    "import numpy as np\n",
    "from glob import glob\n",
    "import matplotlib.pyplot as plt\n",
    "import shutil\n",
    "import warnings\n",
    "import pandas as pd\n",
    "import time\n",
    "import random\n",
    "import tensorflow as tf"
   ]
  },
  {
   "cell_type": "code",
   "execution_count": 2,
   "metadata": {},
   "outputs": [],
   "source": [
    "SAVED_MODEL = \"try/unet/best_model\""
   ]
  },
  {
   "cell_type": "code",
   "execution_count": 3,
   "metadata": {},
   "outputs": [],
   "source": [
    "unet = tf.keras.models.load_model(SAVED_MODEL)"
   ]
  },
  {
   "cell_type": "code",
   "execution_count": 5,
   "metadata": {},
   "outputs": [],
   "source": [
    "image_path = \"test.jpg\""
   ]
  },
  {
   "cell_type": "code",
   "execution_count": 8,
   "metadata": {},
   "outputs": [],
   "source": [
    "IMAGE_SIZE = 512"
   ]
  },
  {
   "cell_type": "code",
   "execution_count": 6,
   "metadata": {},
   "outputs": [],
   "source": [
    "#image_path ตำแหน่งภาพ\n",
    "def read_image(image_path, mask=False):\n",
    "  image = tf.io.read_file(image_path)\n",
    "  image = tf.image.decode_png(image, channels=1)\n",
    "  base_image = image\n",
    "  image.set_shape([None, None, 1])\n",
    "  if mask:\n",
    "    image = tf.cast(image, dtype=tf.int32)\n",
    "    return image\n",
    "  else:\n",
    "    image = tf.cast(image, dtype=tf.float32)\n",
    "    image = image / 127.5 - 1\n",
    "    return image, base_image"
   ]
  },
  {
   "cell_type": "code",
   "execution_count": 9,
   "metadata": {},
   "outputs": [],
   "source": [
    "def normalize(image):\n",
    "  image = image[:, 540:1620]\n",
    "  image = tf.image.resize(images=image, size=[IMAGE_SIZE, IMAGE_SIZE])\n",
    "  return image"
   ]
  },
  {
   "cell_type": "code",
   "execution_count": 11,
   "metadata": {},
   "outputs": [],
   "source": [
    "def infer(model, image_tensor):\n",
    "  mask, values = model.predict(np.expand_dims((image_tensor), axis=0), verbose=0)\n",
    "  mask = np.squeeze(mask)\n",
    "  mask_npy = np.argmax(mask, axis=2).astype(np.uint8)\n",
    "  mask = tf.convert_to_tensor(mask_npy)\n",
    "\n",
    "  predictions = {\n",
    "    \"image\": image_tensor,\n",
    "    \"mask\": mask,\n",
    "    \"x\": int(values[0][0] * 1080) + 420,\n",
    "    \"y\": int(values[0][1] * 1080),\n",
    "    \"angle\": values[0][2] * 180 if len(values[0]) > 2 else 0,  # แก้ไขเพื่อรองรับกรณีไม่มี angle\n",
    "    \"type\": \"predicted\"\n",
    "}\n",
    "\n",
    "\n",
    "  return predictions"
   ]
  },
  {
   "cell_type": "code",
   "execution_count": 12,
   "metadata": {},
   "outputs": [],
   "source": [
    "def plot_visualization(real_data, predicted_data):\n",
    "  colors = {\"background\":[59, 82, 139],\n",
    "            \"arm\":[3, 31, 254],\n",
    "            \"veins\":[253, 231, 37]}\n",
    "\n",
    "  visualization = []\n",
    "  image = real_data[\"image\"].numpy().astype(np.uint8)\n",
    "  image = cv2.cvtColor(image, cv2.COLOR_GRAY2RGB)\n",
    "  for data in [real_data,\n",
    "               predicted_data\n",
    "               ]:\n",
    "    mask = data[\"mask\"].numpy().astype(np.uint8)\n",
    "    mask = cv2.cvtColor(mask, cv2.COLOR_GRAY2RGB)\n",
    "\n",
    "    mask[np.where((mask==[0,0,0]).all(axis=2))] = colors[\"background\"]\n",
    "    mask[np.where((mask==[1,1,1]).all(axis=2))] = colors[\"arm\"]\n",
    "    mask[np.where((mask==[2,2,2]).all(axis=2))] = colors[\"veins\"]\n",
    "\n",
    "    if data[\"type\"] == \"predicted\":\n",
    "      mask = cv2.resize(mask, (1080,1080), interpolation = cv2.INTER_AREA)\n",
    "      final_mask = np.full(shape = (1080,1920,3), fill_value=colors[\"background\"])\n",
    "      final_mask[:,540:1620,:] = mask\n",
    "      mask = final_mask.astype(np.uint8)\n",
    "\n",
    "    new_image = cv2.addWeighted(image, 0.8, mask, 0.5, 0.0)\n",
    "    angle = data[\"angle\"]\n",
    "    cv2.circle(new_image, (data[\"x\"], data[\"y\"]), radius=10, color=(0,255,0), thickness=-1)\n",
    "    cv2.putText(new_image, f\"{angle:.2f}\", (data[\"x\"]+10,data[\"y\"]+5), cv2.FONT_HERSHEY_SIMPLEX , 2, (0,255,0), thickness = 5)\n",
    "    visualization.append(new_image)\n",
    "\n",
    "    # Preprocessing\n",
    "    new_image2 = cv2.addWeighted(image, 0.8, mask, 0.5, 0.0)\n",
    "    size = 100\n",
    "    start_point = (data[\"x\"]-int(size/2), data[\"y\"]-int(size/2))\n",
    "    end_point = (data[\"x\"]+int(size/2), data[\"y\"]+int(size/2))\n",
    "    new_image2 = cv2.rectangle(new_image2, start_point, end_point, (0,255,0), 5)\n",
    "    visualization.append(new_image2)\n",
    "    cv2.imshow(\"Inference\", cv2.cvtColor(new_image2, cv2.COLOR_BGR2RGB))\n",
    "    cv2.waitKey(0)\n",
    "    cv2.destroyAllWindows()\n",
    "\n",
    "\n",
    "  f, ax = plt.subplots(2, 2, sharey=True, sharex=True, figsize=(12, 7))\n",
    "\n",
    "  ax[0][0].set_title(\"Real\")\n",
    "  ax[0][0].imshow(visualization[0])\n",
    "  ax[0][1].set_title(\"Predicted\")\n",
    "  ax[0][1].imshow(visualization[2])\n",
    "  ax[1][0].imshow(visualization[1])\n",
    "  ax[1][1].imshow(visualization[3])"
   ]
  },
  {
   "cell_type": "code",
   "execution_count": 13,
   "metadata": {},
   "outputs": [],
   "source": [
    "def make_prediction(model):\n",
    "  random_sample = random.randint(0, len(test_images)-1)\n",
    "  id = test_ids[random_sample]\n",
    "\n",
    "  image = test_images[random_sample]\n",
    "  image_tensor, base_image_tensor = read_image(image)\n",
    "\n",
    "  mask = test_masks[random_sample]\n",
    "  mask_tensor = read_image(mask, mask=True)\n",
    "  real_data = {\"image\": base_image_tensor,\n",
    "               \"mask\": mask_tensor,\n",
    "               \"x\":test_acf_x_centers[random_sample],\n",
    "               \"y\":test_acf_y_centers[random_sample],\n",
    "               \"angle\":test_angles[random_sample],\n",
    "               \"type\":\"real\"}\n",
    "\n",
    "  image_tensor = normalize(image_tensor)\n",
    "  predicted_data = infer(model=model, image_tensor=image_tensor)\n",
    "  plot_visualization(real_data, predicted_data)\n",
    "  print(\"preprocessed_image:\", dataset.at[id, \"preprocessed_image\"])"
   ]
  },
  {
   "cell_type": "code",
   "execution_count": 5,
   "metadata": {},
   "outputs": [],
   "source": [
    "def make_prediction(model):\n",
    "  # ใช้ภาพที่กำหนดไว้แทนการสุ่ม\n",
    "  image_path = \"test.jpg\"\n",
    "  \n",
    "  # โหลดภาพที่กำหนด\n",
    "  image_tensor, base_image_tensor = read_image(image_path)\n",
    "\n",
    "  # แทนที่การโหลด mask ด้วยค่าปลอม (เนื่องจากไม่มีข้อมูล mask จริง)\n",
    "  mask_tensor = tf.zeros_like(base_image_tensor)  # สร้าง mask เปล่า\n",
    "\n",
    "  # กำหนดค่าปลอมสำหรับข้อมูลจริง\n",
    "  real_data = {\n",
    "      \"image\": base_image_tensor,\n",
    "      \"mask\": mask_tensor,\n",
    "      \"x\": 0,  # ค่าปลอม\n",
    "      \"y\": 0,  # ค่าปลอม\n",
    "      \"angle\": 0,  # ค่าปลอม\n",
    "      \"type\": \"real\"\n",
    "  }\n",
    "\n",
    "  # ปรับขนาดภาพให้ตรงกับ input ของโมเดล\n",
    "  image_tensor = normalize(image_tensor)\n",
    "\n",
    "  # ทำการพยากรณ์ด้วยโมเดล\n",
    "  predicted_data = infer(model=model, image_tensor=image_tensor)\n",
    "\n",
    "  # แสดงผลลัพธ์\n",
    "  plot_visualization(real_data, predicted_data)\n",
    "\n",
    "  # พิมพ์ชื่อไฟล์ที่ใช้พยากรณ์\n",
    "  print(\"preprocessed_image:\", image_path)\n"
   ]
  },
  {
   "cell_type": "code",
   "execution_count": null,
   "metadata": {},
   "outputs": [],
   "source": [
    "make_prediction(unet)"
   ]
  }
 ],
 "metadata": {
  "kernelspec": {
   "display_name": "env",
   "language": "python",
   "name": "python3"
  },
  "language_info": {
   "codemirror_mode": {
    "name": "ipython",
    "version": 3
   },
   "file_extension": ".py",
   "mimetype": "text/x-python",
   "name": "python",
   "nbconvert_exporter": "python",
   "pygments_lexer": "ipython3",
   "version": "3.10.6"
  }
 },
 "nbformat": 4,
 "nbformat_minor": 2
}
